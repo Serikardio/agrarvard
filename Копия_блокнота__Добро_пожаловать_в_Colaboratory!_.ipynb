{
  "cells": [
    {
      "cell_type": "code",
      "source": [
        "from google.colab import drive\n",
        "drive.mount('/content/drive')"
      ],
      "metadata": {
        "id": "BdVp3dM-WMrg",
        "outputId": "5a7c886f-dfb4-4d52-ccf0-81c2da5b4144",
        "colab": {
          "base_uri": "https://localhost:8080/"
        }
      },
      "execution_count": null,
      "outputs": [
        {
          "output_type": "stream",
          "name": "stdout",
          "text": [
            "Mounted at /content/drive\n"
          ]
        }
      ]
    },
    {
      "cell_type": "code",
      "source": [
        "pip install pyreadstat"
      ],
      "metadata": {
        "id": "515q54orWxO9",
        "outputId": "7dc7ad57-f9cb-4b83-dde1-04a15dc1e530",
        "colab": {
          "base_uri": "https://localhost:8080/"
        }
      },
      "execution_count": null,
      "outputs": [
        {
          "output_type": "stream",
          "name": "stdout",
          "text": [
            "Requirement already satisfied: pyreadstat in /usr/local/lib/python3.10/dist-packages (1.2.7)\n",
            "Requirement already satisfied: pandas>=1.2.0 in /usr/local/lib/python3.10/dist-packages (from pyreadstat) (2.0.3)\n",
            "Requirement already satisfied: python-dateutil>=2.8.2 in /usr/local/lib/python3.10/dist-packages (from pandas>=1.2.0->pyreadstat) (2.8.2)\n",
            "Requirement already satisfied: pytz>=2020.1 in /usr/local/lib/python3.10/dist-packages (from pandas>=1.2.0->pyreadstat) (2023.4)\n",
            "Requirement already satisfied: tzdata>=2022.1 in /usr/local/lib/python3.10/dist-packages (from pandas>=1.2.0->pyreadstat) (2024.1)\n",
            "Requirement already satisfied: numpy>=1.21.0 in /usr/local/lib/python3.10/dist-packages (from pandas>=1.2.0->pyreadstat) (1.25.2)\n",
            "Requirement already satisfied: six>=1.5 in /usr/local/lib/python3.10/dist-packages (from python-dateutil>=2.8.2->pandas>=1.2.0->pyreadstat) (1.16.0)\n"
          ]
        }
      ]
    },
    {
      "cell_type": "code",
      "source": [
        "import pandas as pd\n",
        "import pyreadstat"
      ],
      "metadata": {
        "id": "sRKfoEufWeRS"
      },
      "execution_count": null,
      "outputs": []
    },
    {
      "cell_type": "code",
      "source": [
        "data = pd.read_spss('/content/drive/MyDrive/lab 12/KAZ_2014_FIES_v01_EN_M_v01_A_OCS (1).sav')"
      ],
      "metadata": {
        "id": "mFkX_CaGW5cq"
      },
      "execution_count": null,
      "outputs": []
    },
    {
      "cell_type": "code",
      "source": [
        "data.to_excel('KZ-2014.xlsx')"
      ],
      "metadata": {
        "id": "zLQCtQyHXEWK"
      },
      "execution_count": null,
      "outputs": []
    },
    {
      "cell_type": "code",
      "source": [
        "data1 = pd.read_spss('/content/drive/MyDrive/lab 12/KAZ_2015_FIES_v01_EN_M_v01_A_OCS (1).sav')\n",
        "data1.to_excel('KZ-2015.xlsx')"
      ],
      "metadata": {
        "id": "RxX36BszXH0e"
      },
      "execution_count": null,
      "outputs": []
    },
    {
      "cell_type": "code",
      "source": [
        "data2 = pd.read_spss('/content/drive/MyDrive/lab 12/KAZ_2016_FIES_v01_EN_M_v01_A_OCS (1).sav')\n",
        "data2.to_excel('KZ-2016.xlsx')"
      ],
      "metadata": {
        "id": "coBv8QcTZvj1"
      },
      "execution_count": null,
      "outputs": []
    },
    {
      "cell_type": "code",
      "source": [
        "data3 = pd.read_spss('/content/drive/MyDrive/lab 12/KAZ_2017_FIES_v01_EN_M_v01_A_OCS (1).sav')\n",
        "data3.to_excel('KZ-2017.xlsx')"
      ],
      "metadata": {
        "id": "2MH19STZaObQ"
      },
      "execution_count": null,
      "outputs": []
    },
    {
      "cell_type": "code",
      "source": [
        "data_kgz = pd.read_spss('/content/drive/MyDrive/lab 12/KGZ_2014_FIES_v01_EN_M_v01_A_OCS (1).sav')\n",
        "data_kgz.to_excel('KGZ-2014.xlsx')"
      ],
      "metadata": {
        "id": "LOw0hp9BZ8Hq"
      },
      "execution_count": null,
      "outputs": []
    },
    {
      "cell_type": "code",
      "source": [
        "data_kgz1 = pd.read_spss('/content/drive/MyDrive/lab 12/KGZ_2015_FIES_v01_EN_M_v01_A_OCS (1).sav')\n",
        "data_kgz1.to_excel('KGZ-2015.xlsx')"
      ],
      "metadata": {
        "id": "15td8FpzadUb"
      },
      "execution_count": null,
      "outputs": []
    },
    {
      "cell_type": "code",
      "source": [
        "data_kgz2 = pd.read_spss('/content/drive/MyDrive/lab 12/KGZ_2016_FIES_v01_EN_M_v01_A_OCS (1).sav')\n",
        "data_kgz2.to_excel('KGZ-2016.xlsx')"
      ],
      "metadata": {
        "id": "tsZ9Bqs1aj-t"
      },
      "execution_count": null,
      "outputs": []
    },
    {
      "cell_type": "code",
      "source": [
        "data_kgz3 = pd.read_spss('/content/drive/MyDrive/lab 12/KGZ_2017_FIES_v01_EN_M_v01_A_OCS (1).sav')\n",
        "data_kgz3.to_excel('KGZ-2017.xlsx')"
      ],
      "metadata": {
        "id": "JsmMOmOaakuz"
      },
      "execution_count": null,
      "outputs": []
    },
    {
      "cell_type": "code",
      "source": [
        "data_tjk = pd.read_spss('/content/drive/MyDrive/lab 12/TJK_2014_FIES_v01_EN_M_v01_A_OCS (1).sav')\n",
        "data_tjk.to_excel('TJK-2014.xlsx')"
      ],
      "metadata": {
        "id": "g-fuhlDOayhC"
      },
      "execution_count": null,
      "outputs": []
    },
    {
      "cell_type": "code",
      "source": [
        "data_tjk1 = pd.read_spss('/content/drive/MyDrive/lab 12/TJK_2015_FIES_v01_EN_M_v01_A_OCS (1).sav')\n",
        "data_tjk1.to_excel('TJK-2015.xlsx')"
      ],
      "metadata": {
        "id": "jh7dFLE3bAp3"
      },
      "execution_count": null,
      "outputs": []
    },
    {
      "cell_type": "code",
      "source": [
        "data_tjk2 = pd.read_spss('/content/drive/MyDrive/lab 12/TJK_2016_FIES_v01_EN_M_v01_A_OCS (1).sav')\n",
        "data_tjk2.to_excel('TJK-2016.xlsx')"
      ],
      "metadata": {
        "id": "ppfdTvZWbAfq"
      },
      "execution_count": null,
      "outputs": []
    },
    {
      "cell_type": "code",
      "source": [
        "data_tjk3 = pd.read_spss('/content/drive/MyDrive/lab 12/TJK_2017_FIES_v01_EN_M_v01_A_OCS (1).sav')\n",
        "data_tjk3.to_excel('TJK-2017.xlsx')"
      ],
      "metadata": {
        "id": "bQAyWQ4rbATc"
      },
      "execution_count": null,
      "outputs": []
    },
    {
      "cell_type": "code",
      "source": [
        "data_uzb = pd.read_spss('/content/drive/MyDrive/lab 12/UZB_2014_FIES_v01_EN_M_v01_A_OCS (1).sav')\n",
        "data_uzb.to_excel('UZB-2014.xlsx')"
      ],
      "metadata": {
        "id": "Ch4amhojbT_X"
      },
      "execution_count": null,
      "outputs": []
    },
    {
      "cell_type": "code",
      "source": [
        "data_uzb1 = pd.read_spss('/content/drive/MyDrive/lab 12/UZB_2015_FIES_v01_EN_M_v01_A_OCS (1).sav')\n",
        "data_uzb1.to_excel('UZB-2015.xlsx')"
      ],
      "metadata": {
        "id": "lCFJy2Y_boPs"
      },
      "execution_count": null,
      "outputs": []
    },
    {
      "cell_type": "code",
      "source": [
        "data_uzb2 = pd.read_spss('/content/drive/MyDrive/lab 12/UZB_2016_FIES_v01_EN_M_v01_A_OCS (1).sav')\n",
        "data_uzb2.to_excel('UZB-2016.xlsx')"
      ],
      "metadata": {
        "id": "nipDrs2NboJh"
      },
      "execution_count": null,
      "outputs": []
    },
    {
      "cell_type": "code",
      "source": [
        "data_uzb3 = pd.read_spss('/content/drive/MyDrive/lab 12/UZB_2017_FIES_v01_EN_M_v01_A_OCS (2).sav')\n",
        "data_uzb3.to_excel('UZB-2017.xlsx')"
      ],
      "metadata": {
        "id": "xrebjcsBboC-"
      },
      "execution_count": null,
      "outputs": []
    },
    {
      "cell_type": "code",
      "source": [
        "import numpy as np"
      ],
      "metadata": {
        "id": "qProkZl-b5qL"
      },
      "execution_count": null,
      "outputs": []
    },
    {
      "cell_type": "code",
      "source": [
        "df_KGZ_2014 = pd.read_excel('/content/drive/MyDrive/lab 12 excel/KGZ-2014.xlsx')\n",
        "df_KGZ_2014.fillna(0, inplace=True)\n",
        "df_KGZ_2014.to_excel('/content/drive/MyDrive/lab 12 excel/KGZ-2014.xlsx', index=False)"
      ],
      "metadata": {
        "id": "4F5xwhUndrNR"
      },
      "execution_count": null,
      "outputs": []
    },
    {
      "cell_type": "code",
      "source": [
        "df_KGZ_2015 = pd.read_excel('/content/drive/MyDrive/lab 12 excel/KGZ-2015.xlsx')\n",
        "df_KGZ_2015.fillna(0, inplace=True)\n",
        "df_KGZ_2015.to_excel('/content/drive/MyDrive/lab 12 excel/KGZ-2015.xlsx', index=False)"
      ],
      "metadata": {
        "id": "kVqz_YTqgrvR"
      },
      "execution_count": null,
      "outputs": []
    },
    {
      "cell_type": "code",
      "source": [
        "df_KGZ_2016 = pd.read_excel('/content/drive/MyDrive/lab 12 excel/KGZ-2016.xlsx')\n",
        "df_KGZ_2016.fillna(0, inplace=True)\n",
        "df_KGZ_2016.to_excel('/content/drive/MyDrive/lab 12 excel/KGZ-2016.xlsx', index=False)"
      ],
      "metadata": {
        "id": "AgRfvqn_iHxL"
      },
      "execution_count": null,
      "outputs": []
    },
    {
      "cell_type": "code",
      "source": [
        "df_KGZ_2017 = pd.read_excel('/content/drive/MyDrive/lab 12 excel/KGZ-2017.xlsx')\n",
        "df_KGZ_2017.fillna(0, inplace=True)\n",
        "df_KGZ_2017.to_excel('/content/drive/MyDrive/lab 12 excel/KGZ-2017.xlsx', index=False)"
      ],
      "metadata": {
        "id": "-PbvBiqMiQ5C"
      },
      "execution_count": null,
      "outputs": []
    },
    {
      "cell_type": "code",
      "source": [
        "df_KZ_2014 = pd.read_excel('/content/drive/MyDrive/lab 12 excel/KZ-2014.xlsx')\n",
        "df_KZ_2014.fillna(0, inplace=True)\n",
        "df_KZ_2014.to_excel('/content/drive/MyDrive/lab 12 excel/KZ-2014.xlsx', index=False)"
      ],
      "metadata": {
        "id": "MnIXt89qinQX"
      },
      "execution_count": null,
      "outputs": []
    },
    {
      "cell_type": "code",
      "source": [
        "df_KZ_2015 = pd.read_excel('/content/drive/MyDrive/lab 12 excel/KZ-2015.xlsx')\n",
        "df_KZ_2015.fillna(0, inplace=True)\n",
        "df_KZ_2015.to_excel('/content/drive/MyDrive/lab 12 excel/KZ-2015.xlsx', index=False)"
      ],
      "metadata": {
        "id": "GqUqlWMJjfZ3"
      },
      "execution_count": null,
      "outputs": []
    },
    {
      "cell_type": "code",
      "source": [
        "df_KZ_2016 = pd.read_excel('/content/drive/MyDrive/lab 12 excel/KZ-2016.xlsx')\n",
        "df_KZ_2016.fillna(0, inplace=True)\n",
        "df_KZ_2016.to_excel('/content/drive/MyDrive/lab 12 excel/KZ-2016.xlsx', index=False)"
      ],
      "metadata": {
        "id": "IzkPQVD-jfUA"
      },
      "execution_count": null,
      "outputs": []
    },
    {
      "cell_type": "code",
      "source": [
        "df_KZ_2017 = pd.read_excel('/content/drive/MyDrive/lab 12 excel/KZ-2017.xlsx')\n",
        "df_KZ_2017.fillna(0, inplace=True)\n",
        "df_KZ_2017.to_excel('/content/drive/MyDrive/lab 12 excel/KZ-2017.xlsx', index=False)"
      ],
      "metadata": {
        "id": "BKkxO6_6jfNj"
      },
      "execution_count": null,
      "outputs": []
    },
    {
      "cell_type": "code",
      "source": [
        "df_tjk_2014 = pd.read_excel('/content/drive/MyDrive/lab 12 excel/TJK-2014.xlsx')\n",
        "df_tjk_2014.fillna(0, inplace=True)\n",
        "df_tjk_2014.to_excel('/content/drive/MyDrive/lab 12 excel/TJK-2014.xlsx', index=False)"
      ],
      "metadata": {
        "id": "Mlb0-L-2j_t7"
      },
      "execution_count": null,
      "outputs": []
    },
    {
      "cell_type": "code",
      "source": [
        "df_tjk_2015 = pd.read_excel('/content/drive/MyDrive/lab 12 excel/TJK-2015.xlsx')\n",
        "df_tjk_2015.fillna(0, inplace=True)\n",
        "df_tjk_2015.to_excel('/content/drive/MyDrive/lab 12 excel/TJK-2015.xlsx', index=False)"
      ],
      "metadata": {
        "id": "QmVPrAKOj_nv"
      },
      "execution_count": null,
      "outputs": []
    },
    {
      "cell_type": "code",
      "source": [
        "df_tjk_2016 = pd.read_excel('/content/drive/MyDrive/lab 12 excel/TJK-2016.xlsx')\n",
        "df_tjk_2016.fillna(0, inplace=True)\n",
        "df_tjk_2016.to_excel('/content/drive/MyDrive/lab 12 excel/TJK-2016.xlsx', index=False)"
      ],
      "metadata": {
        "id": "FXNYIM2AkOy3"
      },
      "execution_count": null,
      "outputs": []
    },
    {
      "cell_type": "code",
      "source": [
        "df_tjk_2017 = pd.read_excel('/content/drive/MyDrive/lab 12 excel/TJK-2017.xlsx')\n",
        "df_tjk_2017.fillna(0, inplace=True)\n",
        "df_tjk_2017.to_excel('/content/drive/MyDrive/lab 12 excel/TJK-2017.xlsx', index=False)"
      ],
      "metadata": {
        "id": "3LOIgZ95j_g5"
      },
      "execution_count": null,
      "outputs": []
    },
    {
      "cell_type": "code",
      "source": [
        "df_uzb_2014 = pd.read_excel('/content/drive/MyDrive/lab 12 excel/UZB-2014.xlsx')\n",
        "df_uzb_2014.fillna(0, inplace=True)\n",
        "df_uzb_2014.to_excel('/content/drive/MyDrive/lab 12 excel/UZB-2014.xlsx', index=False)"
      ],
      "metadata": {
        "id": "LHEL_0vokQFP"
      },
      "execution_count": null,
      "outputs": []
    },
    {
      "cell_type": "code",
      "source": [
        "df_uzb_2015 = pd.read_excel('/content/drive/MyDrive/lab 12 excel/UZB-2015.xlsx')\n",
        "df_uzb_2015.fillna(0, inplace=True)\n",
        "df_uzb_2015.to_excel('/content/drive/MyDrive/lab 12 excel/UZB-2015.xlsx', index=False)"
      ],
      "metadata": {
        "id": "vXNlJ2pwkP_X"
      },
      "execution_count": null,
      "outputs": []
    },
    {
      "cell_type": "code",
      "source": [
        "df_uzb_2016 = pd.read_excel('/content/drive/MyDrive/lab 12 excel/UZB-2016.xlsx')\n",
        "df_uzb_2016.fillna(0, inplace=True)\n",
        "df_uzb_2016.to_excel('/content/drive/MyDrive/lab 12 excel/UZB-2016.xlsx', index=False)"
      ],
      "metadata": {
        "id": "lJs4PkRdkP5K"
      },
      "execution_count": null,
      "outputs": []
    },
    {
      "cell_type": "code",
      "source": [
        "df_uzb_2017 = pd.read_excel('/content/drive/MyDrive/lab 12 excel/UZB-2017.xlsx')\n",
        "df_uzb_2017.fillna(0, inplace=True)\n",
        "df_uzb_2017.to_excel('/content/drive/MyDrive/lab 12 excel/UZB-2017.xlsx', index=False)"
      ],
      "metadata": {
        "id": "YXQ9dnJhkPzh"
      },
      "execution_count": null,
      "outputs": []
    },
    {
      "cell_type": "code",
      "source": [
        "m_kgz_2014 = (df_KGZ_2014['Prob_Mod_Sev'] * df_KGZ_2014['wt']).sum() / df_KGZ_2014['wt'].sum()"
      ],
      "metadata": {
        "id": "YotM_hkzlWxV"
      },
      "execution_count": null,
      "outputs": []
    },
    {
      "cell_type": "code",
      "source": [
        "m_kgz_2014"
      ],
      "metadata": {
        "id": "oFuXRuGenBJi",
        "outputId": "df14d7c0-d209-4662-f136-38db63ec51ed",
        "colab": {
          "base_uri": "https://localhost:8080/"
        }
      },
      "execution_count": null,
      "outputs": [
        {
          "output_type": "execute_result",
          "data": {
            "text/plain": [
              "0.1875365079274166"
            ]
          },
          "metadata": {},
          "execution_count": 97
        }
      ]
    },
    {
      "cell_type": "code",
      "source": [
        "m_kgz_2015 = (df_KGZ_2015['Prob_Mod_Sev'] * df_KGZ_2015['wt']).sum() / df_KGZ_2015['wt'].sum()"
      ],
      "metadata": {
        "id": "AeLr-cdgnNdv"
      },
      "execution_count": null,
      "outputs": []
    },
    {
      "cell_type": "code",
      "source": [
        "m_kgz_2015"
      ],
      "metadata": {
        "id": "sQUdtIS6nq4-",
        "outputId": "35876c9f-cba8-4f0c-e660-2a684be0b6e5",
        "colab": {
          "base_uri": "https://localhost:8080/"
        }
      },
      "execution_count": null,
      "outputs": [
        {
          "output_type": "execute_result",
          "data": {
            "text/plain": [
              "0.21059007745097164"
            ]
          },
          "metadata": {},
          "execution_count": 99
        }
      ]
    },
    {
      "cell_type": "code",
      "source": [
        "m_kgz_2016 = (df_KGZ_2016['Prob_Mod_Sev'] * df_KGZ_2016['wt']).sum() / df_KGZ_2016['wt'].sum()"
      ],
      "metadata": {
        "id": "THICJqmwnk8L"
      },
      "execution_count": null,
      "outputs": []
    },
    {
      "cell_type": "code",
      "source": [
        "m_kgz_2016"
      ],
      "metadata": {
        "id": "8MkYBp1VnrOf",
        "outputId": "f9bd0e7f-f01e-4a44-c132-dcf3f21dcea5",
        "colab": {
          "base_uri": "https://localhost:8080/"
        }
      },
      "execution_count": null,
      "outputs": [
        {
          "output_type": "execute_result",
          "data": {
            "text/plain": [
              "0.19581301002148638"
            ]
          },
          "metadata": {},
          "execution_count": 101
        }
      ]
    },
    {
      "cell_type": "code",
      "source": [
        "m_kgz_2017 = (df_KGZ_2017['Prob_Mod_Sev'] * df_KGZ_2017['wt']).sum() / df_KGZ_2017['wt'].sum()"
      ],
      "metadata": {
        "id": "4TTIg-Kynk59"
      },
      "execution_count": null,
      "outputs": []
    },
    {
      "cell_type": "code",
      "source": [
        "m_kgz_2017"
      ],
      "metadata": {
        "id": "b2lERXzsnrkb",
        "outputId": "568590c0-ab7f-4b49-9c4a-92019533fb01",
        "colab": {
          "base_uri": "https://localhost:8080/"
        }
      },
      "execution_count": null,
      "outputs": [
        {
          "output_type": "execute_result",
          "data": {
            "text/plain": [
              "0.19449654750600165"
            ]
          },
          "metadata": {},
          "execution_count": 103
        }
      ]
    },
    {
      "cell_type": "code",
      "source": [
        "m_kz_2014 = (df_KZ_2014['Prob_Mod_Sev'] * df_KZ_2014['wt']).sum() / df_KZ_2014['wt'].sum()"
      ],
      "metadata": {
        "id": "J7i9gn_Ynk3t"
      },
      "execution_count": null,
      "outputs": []
    },
    {
      "cell_type": "code",
      "source": [
        "m_kz_2014"
      ],
      "metadata": {
        "id": "c4Ok-Yx9nk1G",
        "outputId": "060056b1-f15c-4051-aab0-b99759a457e9",
        "colab": {
          "base_uri": "https://localhost:8080/"
        }
      },
      "execution_count": null,
      "outputs": [
        {
          "output_type": "execute_result",
          "data": {
            "text/plain": [
              "0.0737473506983265"
            ]
          },
          "metadata": {},
          "execution_count": 105
        }
      ]
    },
    {
      "cell_type": "code",
      "source": [
        "m_kz_2015 = (df_KZ_2015['Prob_Mod_Sev'] * df_KZ_2015['wt']).sum() / df_KZ_2015['wt'].sum()"
      ],
      "metadata": {
        "id": "A1skFHHnnkyi"
      },
      "execution_count": null,
      "outputs": []
    },
    {
      "cell_type": "code",
      "source": [
        "m_kz_2015"
      ],
      "metadata": {
        "id": "TpwhbQw-nkwK",
        "outputId": "18e20a2d-ab05-4347-ab7f-8500bca3be1a",
        "colab": {
          "base_uri": "https://localhost:8080/"
        }
      },
      "execution_count": null,
      "outputs": [
        {
          "output_type": "execute_result",
          "data": {
            "text/plain": [
              "0.044529239425859325"
            ]
          },
          "metadata": {},
          "execution_count": 109
        }
      ]
    },
    {
      "cell_type": "code",
      "source": [
        "m_kz_2016 = (df_KZ_2016['Prob_Mod_Sev'] * df_KZ_2016['wt']).sum() / df_KZ_2016['wt'].sum()"
      ],
      "metadata": {
        "id": "Lmf08ApJnkth"
      },
      "execution_count": null,
      "outputs": []
    },
    {
      "cell_type": "code",
      "source": [
        "m_kz_2016"
      ],
      "metadata": {
        "id": "7hULt50Hnkq8",
        "outputId": "118cacbe-8798-49f4-b668-6f4761d28b35",
        "colab": {
          "base_uri": "https://localhost:8080/"
        }
      },
      "execution_count": null,
      "outputs": [
        {
          "output_type": "execute_result",
          "data": {
            "text/plain": [
              "0.07208697980276833"
            ]
          },
          "metadata": {},
          "execution_count": 110
        }
      ]
    },
    {
      "cell_type": "code",
      "source": [
        "m_kz_2017 = (df_KZ_2017['Prob_Mod_Sev'] * df_KZ_2017['wt']).sum() / df_KZ_2017['wt'].sum()"
      ],
      "metadata": {
        "id": "tyAYfALdnkoV"
      },
      "execution_count": null,
      "outputs": []
    },
    {
      "cell_type": "code",
      "source": [
        "m_kz_2017"
      ],
      "metadata": {
        "id": "rP7-Xz9rnkkZ",
        "outputId": "2df76a01-dc90-4630-9035-e33bcb8a4e1a",
        "colab": {
          "base_uri": "https://localhost:8080/"
        }
      },
      "execution_count": null,
      "outputs": [
        {
          "output_type": "execute_result",
          "data": {
            "text/plain": [
              "0.09025550050680399"
            ]
          },
          "metadata": {},
          "execution_count": 113
        }
      ]
    },
    {
      "cell_type": "code",
      "source": [
        "m_tjk_2014 = (df_tjk_2014['Prob_Mod_Sev'] * df_tjk_2014['wt']).sum() / df_tjk_2014['wt'].sum()"
      ],
      "metadata": {
        "id": "ybVBd6rlnkiq"
      },
      "execution_count": null,
      "outputs": []
    },
    {
      "cell_type": "code",
      "source": [
        "m_tjk_2014"
      ],
      "metadata": {
        "id": "nUjnXBo9nkf_",
        "outputId": "ff34fbb6-ff30-44fd-8a13-3b9f4330ef4a",
        "colab": {
          "base_uri": "https://localhost:8080/"
        }
      },
      "execution_count": null,
      "outputs": [
        {
          "output_type": "execute_result",
          "data": {
            "text/plain": [
              "0.13234311608076732"
            ]
          },
          "metadata": {},
          "execution_count": 115
        }
      ]
    },
    {
      "cell_type": "code",
      "source": [
        "m_tjk_2015 = (df_tjk_2015['Prob_Mod_Sev'] * df_tjk_2015['wt']).sum() / df_tjk_2015['wt'].sum()"
      ],
      "metadata": {
        "id": "6XV3hV4AnkdZ"
      },
      "execution_count": null,
      "outputs": []
    },
    {
      "cell_type": "code",
      "source": [
        "m_tjk_2015"
      ],
      "metadata": {
        "id": "4OpWi-PFnkaz",
        "outputId": "07f7521e-5fc5-45c0-c027-fb8f4320c8d7",
        "colab": {
          "base_uri": "https://localhost:8080/"
        }
      },
      "execution_count": null,
      "outputs": [
        {
          "output_type": "execute_result",
          "data": {
            "text/plain": [
              "0.11086727498562164"
            ]
          },
          "metadata": {},
          "execution_count": 117
        }
      ]
    },
    {
      "cell_type": "code",
      "source": [
        "m_tjk_2016 = (df_tjk_2016['Prob_Mod_Sev'] * df_tjk_2016['wt']).sum() / df_tjk_2016['wt'].sum()"
      ],
      "metadata": {
        "id": "OpYWjLv7nkXu"
      },
      "execution_count": null,
      "outputs": []
    },
    {
      "cell_type": "code",
      "source": [
        "m_tjk_2016"
      ],
      "metadata": {
        "id": "6RxqJNu6nkQq",
        "outputId": "58fcf89d-b279-49fe-cf23-74c1b02fc3c9",
        "colab": {
          "base_uri": "https://localhost:8080/"
        }
      },
      "execution_count": null,
      "outputs": [
        {
          "output_type": "execute_result",
          "data": {
            "text/plain": [
              "0.19598527440470287"
            ]
          },
          "metadata": {},
          "execution_count": 119
        }
      ]
    },
    {
      "cell_type": "code",
      "source": [
        "m_tjk_2017 = (df_tjk_2017['Prob_Mod_Sev'] * df_tjk_2017['wt']).sum() / df_tjk_2017['wt'].sum()"
      ],
      "metadata": {
        "id": "2rDnKGi1nkF3"
      },
      "execution_count": null,
      "outputs": []
    },
    {
      "cell_type": "code",
      "source": [
        "m_tjk_2017"
      ],
      "metadata": {
        "id": "nGR2KD4JpMyk",
        "outputId": "3b920594-2833-40e5-a6d3-c7aa0d5fd540",
        "colab": {
          "base_uri": "https://localhost:8080/"
        }
      },
      "execution_count": null,
      "outputs": [
        {
          "output_type": "execute_result",
          "data": {
            "text/plain": [
              "0.23921461895440915"
            ]
          },
          "metadata": {},
          "execution_count": 121
        }
      ]
    },
    {
      "cell_type": "code",
      "source": [
        "m_uzb_2014 = (df_uzb_2014['Prob_Mod_Sev'] * df_uzb_2014['wt']).sum() / df_uzb_2014['wt'].sum()"
      ],
      "metadata": {
        "id": "tVbUig2dpOGO"
      },
      "execution_count": null,
      "outputs": []
    },
    {
      "cell_type": "code",
      "source": [
        "m_uzb_2014"
      ],
      "metadata": {
        "id": "kj-muZD2pbc9",
        "outputId": "00f1450e-87aa-4caa-bbbe-dac3cbbaefc5",
        "colab": {
          "base_uri": "https://localhost:8080/"
        }
      },
      "execution_count": null,
      "outputs": [
        {
          "output_type": "execute_result",
          "data": {
            "text/plain": [
              "0.09872602667454446"
            ]
          },
          "metadata": {},
          "execution_count": 123
        }
      ]
    },
    {
      "cell_type": "code",
      "source": [
        "m_uzb_2015 = (df_uzb_2015['Prob_Mod_Sev'] * df_uzb_2015['wt']).sum() / df_uzb_2015['wt'].sum()"
      ],
      "metadata": {
        "id": "krJ_HfxGpdXw"
      },
      "execution_count": null,
      "outputs": []
    },
    {
      "cell_type": "code",
      "source": [
        "m_uzb_2015"
      ],
      "metadata": {
        "id": "voGTSgSupett",
        "outputId": "d4c5b6c6-5667-4ea5-e7b8-3538a43e025b",
        "colab": {
          "base_uri": "https://localhost:8080/"
        }
      },
      "execution_count": null,
      "outputs": [
        {
          "output_type": "execute_result",
          "data": {
            "text/plain": [
              "0.12482079148104783"
            ]
          },
          "metadata": {},
          "execution_count": 125
        }
      ]
    },
    {
      "cell_type": "code",
      "source": [
        "m_uzb_2016 = (df_uzb_2016['Prob_Mod_Sev'] * df_uzb_2016['wt']).sum() / df_uzb_2016['wt'].sum()"
      ],
      "metadata": {
        "id": "rWzysP31peo8"
      },
      "execution_count": null,
      "outputs": []
    },
    {
      "cell_type": "code",
      "source": [
        "m_uzb_2016"
      ],
      "metadata": {
        "id": "KAUB0mO6pedz",
        "outputId": "e0d0e761-a393-4066-9576-464755675abb",
        "colab": {
          "base_uri": "https://localhost:8080/"
        }
      },
      "execution_count": null,
      "outputs": [
        {
          "output_type": "execute_result",
          "data": {
            "text/plain": [
              "0.1033934827101725"
            ]
          },
          "metadata": {},
          "execution_count": 127
        }
      ]
    },
    {
      "cell_type": "code",
      "source": [
        "m_uzb_2017 = (df_uzb_2017['Prob_Mod_Sev'] * df_uzb_2017['wt']).sum() / df_uzb_2017['wt'].sum()"
      ],
      "metadata": {
        "id": "vjQb_o80peYt"
      },
      "execution_count": null,
      "outputs": []
    },
    {
      "cell_type": "code",
      "source": [
        "m_uzb_2017"
      ],
      "metadata": {
        "id": "qEyA0ZJNpd-U",
        "outputId": "58967818-b08d-4295-a06c-a944a0d1f662",
        "colab": {
          "base_uri": "https://localhost:8080/"
        }
      },
      "execution_count": null,
      "outputs": [
        {
          "output_type": "execute_result",
          "data": {
            "text/plain": [
              "0.16342414956949367"
            ]
          },
          "metadata": {},
          "execution_count": 129
        }
      ]
    },
    {
      "cell_type": "code",
      "source": [
        "m_kgz_values = [m_kgz_2014, m_kgz_2015, m_kgz_2016, m_kgz_2017]"
      ],
      "metadata": {
        "id": "0A75LuNmpxiu"
      },
      "execution_count": null,
      "outputs": []
    },
    {
      "cell_type": "code",
      "source": [
        "m_kgz_values"
      ],
      "metadata": {
        "id": "7ozZ4t53qVRw",
        "outputId": "e498e6f5-1cd6-44ab-a140-169d710f0712",
        "colab": {
          "base_uri": "https://localhost:8080/"
        }
      },
      "execution_count": null,
      "outputs": [
        {
          "output_type": "execute_result",
          "data": {
            "text/plain": [
              "[0.1875365079274166,\n",
              " 0.21059007745097164,\n",
              " 0.19581301002148638,\n",
              " 0.19449654750600165]"
            ]
          },
          "metadata": {},
          "execution_count": 132
        }
      ]
    },
    {
      "cell_type": "code",
      "source": [
        "m_kz_values = [m_kz_2014, m_kz_2015, m_kz_2016, m_kz_2017]"
      ],
      "metadata": {
        "id": "pyDOKxh-qsEW"
      },
      "execution_count": null,
      "outputs": []
    },
    {
      "cell_type": "code",
      "source": [
        "m_kz_values"
      ],
      "metadata": {
        "id": "VnUQtPItqzX-",
        "outputId": "357cc74b-cd3c-4f69-e207-844dcde1fca7",
        "colab": {
          "base_uri": "https://localhost:8080/"
        }
      },
      "execution_count": null,
      "outputs": [
        {
          "output_type": "execute_result",
          "data": {
            "text/plain": [
              "[0.0737473506983265,\n",
              " 0.044529239425859325,\n",
              " 0.07208697980276833,\n",
              " 0.09025550050680399]"
            ]
          },
          "metadata": {},
          "execution_count": 134
        }
      ]
    },
    {
      "cell_type": "code",
      "source": [
        "m_tjk_values = [m_tjk_2014, m_tjk_2015, m_tjk_2016, m_tjk_2017]"
      ],
      "metadata": {
        "id": "C-QYUqsEq0s9"
      },
      "execution_count": null,
      "outputs": []
    },
    {
      "cell_type": "code",
      "source": [
        "m_tjk_values"
      ],
      "metadata": {
        "id": "nJeov9rjq-CC",
        "outputId": "1dfd6087-0b58-4ef5-f522-d660ea7a6924",
        "colab": {
          "base_uri": "https://localhost:8080/"
        }
      },
      "execution_count": null,
      "outputs": [
        {
          "output_type": "execute_result",
          "data": {
            "text/plain": [
              "[0.13234311608076732,\n",
              " 0.11086727498562164,\n",
              " 0.19598527440470287,\n",
              " 0.23921461895440915]"
            ]
          },
          "metadata": {},
          "execution_count": 136
        }
      ]
    },
    {
      "cell_type": "code",
      "source": [
        "m_uzb_values = [m_uzb_2014, m_uzb_2015, m_uzb_2016, m_uzb_2017]"
      ],
      "metadata": {
        "id": "T11Vq-OFrANv"
      },
      "execution_count": null,
      "outputs": []
    },
    {
      "cell_type": "code",
      "source": [
        "m_uzb_values"
      ],
      "metadata": {
        "id": "XHpILagTrK_S",
        "outputId": "db7a8c9d-e710-41a1-d046-54790ed71640",
        "colab": {
          "base_uri": "https://localhost:8080/"
        }
      },
      "execution_count": null,
      "outputs": [
        {
          "output_type": "execute_result",
          "data": {
            "text/plain": [
              "[0.09872602667454446,\n",
              " 0.12482079148104783,\n",
              " 0.1033934827101725,\n",
              " 0.16342414956949367]"
            ]
          },
          "metadata": {},
          "execution_count": 138
        }
      ]
    },
    {
      "cell_type": "code",
      "source": [
        "import matplotlib.pyplot as plt"
      ],
      "metadata": {
        "id": "-QZT9SRorskZ"
      },
      "execution_count": null,
      "outputs": []
    },
    {
      "cell_type": "code",
      "source": [
        "years = range(2014, 2018)"
      ],
      "metadata": {
        "id": "n6Ma4UtMrMgW"
      },
      "execution_count": null,
      "outputs": []
    },
    {
      "cell_type": "code",
      "source": [
        "plt.figure(figsize=(10, 6))\n",
        "plt.plot(years, m_kgz_values, marker='o', linestyle='-', label='Казахстан')\n",
        "plt.plot(years, m_kz_values, marker='o', linestyle='-', label='Узбекистан')\n",
        "plt.plot(years, m_uzb_values, marker='o', linestyle='-', label='Кыргызстан')\n",
        "plt.plot(years, m_tjk_values, marker='o', linestyle='-', label='Таджикистан')\n",
        "plt.title('Центральная Азия')\n",
        "plt.xticks(years)\n",
        "plt.yticks(np.arange(0, 0.3, 0.05))\n",
        "plt.legend()\n",
        "plt.grid(True)\n",
        "plt.show()"
      ],
      "metadata": {
        "id": "GfDF8y-vruLP",
        "outputId": "22c7bd78-3ecb-4b93-859c-a0271ad13039",
        "colab": {
          "base_uri": "https://localhost:8080/",
          "height": 545
        }
      },
      "execution_count": null,
      "outputs": [
        {
          "output_type": "display_data",
          "data": {
            "text/plain": [
              "<Figure size 1000x600 with 1 Axes>"
            ],
            "image/png": "[encoded data removed]"
          },
          "metadata": {}
        }
      ]
    },
    {
      "cell_type": "code",
      "source": [],
      "metadata": {
        "id": "qqzwMP-HuFg1"
      },
      "execution_count": null,
      "outputs": []
    }
  ],
  "metadata": {
    "colab": {
      "provenance": []
    },
    "kernelspec": {
      "display_name": "Python 3",
      "name": "python3"
    }
  },
  "nbformat": 4,
  "nbformat_minor": 0
}